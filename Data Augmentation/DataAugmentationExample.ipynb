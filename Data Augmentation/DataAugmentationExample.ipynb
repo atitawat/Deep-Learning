{
 "cells": [
  {
   "cell_type": "markdown",
   "metadata": {},
   "source": [
    "# Data Preprocessing and Augmentation\n",
    "    * we Augment our data via random transformation so that our model does not see any image twice.\n",
    "    * This helps in preventing Overfitting"
   ]
  },
  {
   "cell_type": "code",
   "execution_count": 1,
   "metadata": {},
   "outputs": [
    {
     "name": "stderr",
     "output_type": "stream",
     "text": [
      "C:\\Users\\jsidd\\Anaconda3\\lib\\site-packages\\h5py\\__init__.py:34: FutureWarning: Conversion of the second argument of issubdtype from `float` to `np.floating` is deprecated. In future, it will be treated as `np.float64 == np.dtype(float).type`.\n",
      "  from ._conv import register_converters as _register_converters\n"
     ]
    }
   ],
   "source": [
    "import tensorflow as tf"
   ]
  },
  {
   "cell_type": "markdown",
   "metadata": {},
   "source": [
    "The following class allows us to configure transformation and normalization operation on our image data"
   ]
  },
  {
   "cell_type": "code",
   "execution_count": 2,
   "metadata": {},
   "outputs": [
    {
     "name": "stderr",
     "output_type": "stream",
     "text": [
      "Using TensorFlow backend.\n"
     ]
    }
   ],
   "source": [
    "from keras.preprocessing.image import ImageDataGenerator, array_to_img, img_to_array, load_img\n"
   ]
  },
  {
   "cell_type": "code",
   "execution_count": 3,
   "metadata": {
    "collapsed": true
   },
   "outputs": [],
   "source": [
    "# Keep on playing with the Values to understand the augmentation better\n",
    "datagen = ImageDataGenerator(\n",
    "        rotation_range=40,      # it is used to randomly rotate pictures\n",
    "        width_shift_range=0.2,  # it is used to translate pictures horizontally\n",
    "        height_shift_range=0.2, # it is used to translate pictures vertically\n",
    "        rescale=1./255,         # value by which we multiply our data\n",
    "        shear_range=0.8,        # used to apply shearing transformation\n",
    "        zoom_range=0.2,         # randomly zoom inside the pictures\n",
    "        horizontal_flip=True,   # randomly flips half of the images horizontally\n",
    "        vertical_flip=True,     # randomly flips half of the images vertically\n",
    "        fill_mode='nearest')    # used to fill newly created pixels which can appear as a result of above ransformation"
   ]
  },
  {
   "cell_type": "code",
   "execution_count": 4,
   "metadata": {},
   "outputs": [],
   "source": [
    "img = load_img('dataset/single_prediction/testDog.jpg')  \n",
    "x = img_to_array(img)  # this is a Numpy array with shape (3, 150, 150)\n",
    "x = x.reshape((1,) + x.shape)  # new shape (1, 3, 150, 150)\n",
    "\n",
    "# the .flow() generates batches of randomly transformed images\n",
    "i = 0\n",
    "for batch in datagen.flow(x, batch_size=1,\n",
    "                          save_to_dir='preview', save_prefix='cat', save_format='jpeg'):\n",
    "    i += 1\n",
    "    if i > 20:\n",
    "        break  # otherwise the generator would loop indefinitely\n",
    "        \n",
    "# the results are stored in the \"preview/\" directory"
   ]
  }
 ],
 "metadata": {
  "kernelspec": {
   "display_name": "Python 3",
   "language": "python",
   "name": "python3"
  },
  "language_info": {
   "codemirror_mode": {
    "name": "ipython",
    "version": 3
   },
   "file_extension": ".py",
   "mimetype": "text/x-python",
   "name": "python",
   "nbconvert_exporter": "python",
   "pygments_lexer": "ipython3",
   "version": "3.6.1"
  }
 },
 "nbformat": 4,
 "nbformat_minor": 2
}
