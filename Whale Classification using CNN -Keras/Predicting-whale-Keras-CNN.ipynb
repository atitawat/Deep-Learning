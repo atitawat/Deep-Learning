{
 "cells": [
  {
   "cell_type": "markdown",
   "metadata": {},
   "source": [
    "# Image Classification using Keras using Convolution Neural Network\n",
    "    * This code helps in classifying whether the given image is a whale or not\n",
    "    * Download the dataset from kaggle \n",
    "    * link : https://www.kaggle.com/c/noaa-right-whale-recognition"
   ]
  },
  {
   "cell_type": "code",
   "execution_count": 1,
   "metadata": {},
   "outputs": [
    {
     "data": {
      "text/plain": [
       "'\\n    After Downloading the dataset from the given link\\n    The following code contains the directory named \"whale_images\"\\n    \\n    The basic structure is\\n    \\n    whale_images/\\n            images_train/\\n                    whales/\\n                        w_01.jpg\\n                        ....\\n                    notWhales/\\n                        images1.jpg\\n                        ...\\n            images_test/\\n                    whales/\\n                        w_08.jpg\\n                        ....\\n                    notWhales/\\n                        images9.jpg\\n                        ...\\n            prediction/\\n                    w_01.jpg\\n                    ...\\n                    \\n                    \\n'"
      ]
     },
     "execution_count": 1,
     "metadata": {},
     "output_type": "execute_result"
    }
   ],
   "source": [
    "'''\n",
    "    After Downloading the dataset from the given link\n",
    "    The following code contains the directory named \"whale_images\"\n",
    "    \n",
    "    The basic structure is\n",
    "    \n",
    "    whale_images/\n",
    "            images_train/\n",
    "                    whales/\n",
    "                        w_01.jpg\n",
    "                        ....\n",
    "                    notWhales/\n",
    "                        images1.jpg\n",
    "                        ...\n",
    "            images_test/\n",
    "                    whales/\n",
    "                        w_08.jpg\n",
    "                        ....\n",
    "                    notWhales/\n",
    "                        images9.jpg\n",
    "                        ...\n",
    "            prediction/\n",
    "                    w_01.jpg\n",
    "                    ...\n",
    "                    \n",
    "                    \n",
    "'''"
   ]
  },
  {
   "cell_type": "code",
   "execution_count": 2,
   "metadata": {},
   "outputs": [
    {
     "name": "stderr",
     "output_type": "stream",
     "text": [
      "C:\\Users\\jsidd\\Anaconda3\\lib\\site-packages\\h5py\\__init__.py:34: FutureWarning: Conversion of the second argument of issubdtype from `float` to `np.floating` is deprecated. In future, it will be treated as `np.float64 == np.dtype(float).type`.\n",
      "  from ._conv import register_converters as _register_converters\n",
      "Using TensorFlow backend.\n"
     ]
    },
    {
     "name": "stdout",
     "output_type": "stream",
     "text": [
      "Found 512 images belonging to 2 classes.\n",
      "Found 80 images belonging to 2 classes.\n",
      "Epoch 1/1\n",
      "32/32 [==============================] - 144s 5s/step - loss: 0.6772 - acc: 0.8652 - val_loss: 0.7650 - val_acc: 0.6125\n"
     ]
    },
    {
     "data": {
      "text/plain": [
       "<keras.callbacks.History at 0x20d79fc4c50>"
      ]
     },
     "execution_count": 2,
     "metadata": {},
     "output_type": "execute_result"
    }
   ],
   "source": [
    "from keras.preprocessing.image import ImageDataGenerator\n",
    "from keras.models import Sequential\n",
    "from keras.layers import Conv2D, MaxPooling2D\n",
    "from keras.layers import Activation, Dropout, Flatten, Dense\n",
    "from keras import backend as K\n",
    "\n",
    "\n",
    "# dimensions of our images.\n",
    "img_width, img_height = 150, 150\n",
    "\n",
    "train_data_dir = 'whale_images/images_train'\n",
    "validation_data_dir = 'whale_images/images_test'\n",
    "nb_train_samples = 512\n",
    "nb_validation_samples = 80\n",
    "epochs = 1\n",
    "batch_size = 16\n",
    "#input shape-> (150,150,3)\n",
    "input_shape = (img_width, img_height, 3)\n",
    "\n",
    "# Build a Simple Sequential model\n",
    "model = Sequential()\n",
    "\n",
    "# First Convolutional Layer\n",
    "# number of features = 32\n",
    "# filter Size = (3,3)\n",
    "model.add(Conv2D(32, (3, 3), input_shape=input_shape)) # input_shape is used for the first convolutional layer\n",
    "model.add(Activation('relu'))                          # activation Function (relu is used here)\n",
    "model.add(MaxPooling2D(pool_size=(2, 2)))              # Pooling applied on the layer (pool size of (2,2))\n",
    "\n",
    "# Second Convolutional Layer\n",
    "model.add(Conv2D(32, (3, 3)))   # note here  input_shape is not used \n",
    "model.add(Activation('relu'))    \n",
    "model.add(MaxPooling2D(pool_size=(2, 2)))\n",
    "\n",
    "# Third Convolutional layer\n",
    "model.add(Conv2D(64, (3, 3)))  # number of features = 64\n",
    "model.add(Activation('relu'))\n",
    "model.add(MaxPooling2D(pool_size=(2, 2)))\n",
    "\n",
    "# Flattenning the Layers\n",
    "model.add(Flatten())\n",
    "model.add(Dense(64))\n",
    "model.add(Activation('relu'))\n",
    "model.add(Dropout(0.5))\n",
    "model.add(Dense(1))                   # to predict only one value\n",
    "model.add(Activation('sigmoid'))\n",
    "\n",
    "# Compiling our model\n",
    "model.compile(loss='binary_crossentropy',\n",
    "              optimizer='rmsprop',\n",
    "              metrics=['accuracy'])\n",
    "\n",
    "# Data Preprocessing \n",
    "# (Refer to my Data Augmentation for more detailed approach for data augmentation)\n",
    "train_datagen = ImageDataGenerator(\n",
    "    rescale=1. / 255,\n",
    "    shear_range=0.2,\n",
    "    zoom_range=0.2,\n",
    "    horizontal_flip=True)\n",
    "# we only use rescaling for test_images \n",
    "test_datagen = ImageDataGenerator(rescale=1. / 255)\n",
    "\n",
    "train_generator = train_datagen.flow_from_directory(\n",
    "    train_data_dir,\n",
    "    target_size=(img_width, img_height),\n",
    "    batch_size=batch_size,\n",
    "    class_mode='binary')\n",
    "\n",
    "validation_generator = test_datagen.flow_from_directory(\n",
    "    validation_data_dir,\n",
    "    target_size=(img_width, img_height),\n",
    "    batch_size=batch_size,\n",
    "    class_mode='binary')\n",
    "\n",
    "# fitting our model\n",
    "model.fit_generator(\n",
    "    train_generator,\n",
    "    steps_per_epoch=nb_train_samples // batch_size,\n",
    "    epochs=epochs,\n",
    "    validation_data=validation_generator,\n",
    "    validation_steps=nb_validation_samples // batch_size)\n",
    "\n"
   ]
  },
  {
   "cell_type": "code",
   "execution_count": 3,
   "metadata": {
    "collapsed": true
   },
   "outputs": [],
   "source": [
    "# importing the Required modules for predicting\n",
    "import numpy as np\n",
    "from keras.preprocessing import image"
   ]
  },
  {
   "cell_type": "code",
   "execution_count": 16,
   "metadata": {
    "collapsed": true
   },
   "outputs": [],
   "source": [
    "# Loading the image for prediction\n",
    "test_image =image.load_img('whale_images/prediction/w_0.jpg',target_size=(150,150))"
   ]
  },
  {
   "cell_type": "code",
   "execution_count": 17,
   "metadata": {
    "collapsed": true
   },
   "outputs": [],
   "source": [
    "test_image = image.img_to_array(test_image)\n",
    "test_image = np.expand_dims(test_image,axis=0)\n",
    "pr = model.predict(test_image)"
   ]
  },
  {
   "cell_type": "code",
   "execution_count": 18,
   "metadata": {},
   "outputs": [
    {
     "data": {
      "text/plain": [
       "1.0"
      ]
     },
     "execution_count": 18,
     "metadata": {},
     "output_type": "execute_result"
    }
   ],
   "source": [
    "# 0 for not whale\n",
    "# 1 for whale\n",
    "np.round(pr[0][0])   "
   ]
  },
  {
   "cell_type": "markdown",
   "metadata": {},
   "source": [
    "# Done"
   ]
  }
 ],
 "metadata": {
  "kernelspec": {
   "display_name": "Python 3",
   "language": "python",
   "name": "python3"
  },
  "language_info": {
   "codemirror_mode": {
    "name": "ipython",
    "version": 3
   },
   "file_extension": ".py",
   "mimetype": "text/x-python",
   "name": "python",
   "nbconvert_exporter": "python",
   "pygments_lexer": "ipython3",
   "version": "3.6.1"
  }
 },
 "nbformat": 4,
 "nbformat_minor": 2
}
